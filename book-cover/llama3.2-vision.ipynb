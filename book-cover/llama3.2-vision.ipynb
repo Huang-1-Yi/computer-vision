{
 "cells": [
  {
   "cell_type": "code",
   "execution_count": 1,
   "id": "52c18019-f03a-491c-a926-9d016e7eb2d1",
   "metadata": {},
   "outputs": [],
   "source": [
    "from PIL import Image\n",
    "import base64\n",
    "import io\n",
    "\n",
    "def image_to_base64(image_path):\n",
    "    # Open the image file\n",
    "    with Image.open(image_path) as img:\n",
    "        # Create a BytesIO object to hold the image data\n",
    "        buffered = io.BytesIO()\n",
    "        # Save the image to the BytesIO object in a specific format (e.g., JPEG)\n",
    "        img.save(buffered, format=\"PNG\")\n",
    "        # Get the byte data from the BytesIO object\n",
    "        img_bytes = buffered.getvalue()\n",
    "        # Encode the byte data to base64\n",
    "        img_base64 = base64.b64encode(img_bytes).decode('utf-8')\n",
    "        return img_base64\n",
    "\n"
   ]
  },
  {
   "cell_type": "code",
   "execution_count": null,
   "id": "50fe406a-2543-4834-9dbf-65e4b4073299",
   "metadata": {},
   "outputs": [],
   "source": [
    "# Example 1: Single Image Input\n",
    "image_path = 'examples/image.png'  # Replace with your image path\n",
    "base64_image = image_to_base64(image_path)"
   ]
  },
  {
   "cell_type": "code",
   "execution_count": 3,
   "id": "c3c9a71c-91b9-422d-9cac-e62ab18220db",
   "metadata": {},
   "outputs": [
    {
     "name": "stdout",
     "output_type": "stream",
     "text": [
      "The Secret History: Donna Tartt.\n"
     ]
    }
   ],
   "source": [
    "import ollama\n",
    "\n",
    "# Use Ollama to clean and structure the OCR output\n",
    "response = ollama.chat(\n",
    "    model=\"x/llama3.2-vision:latest\",\n",
    "    messages=[{\n",
    "      \"role\": \"user\",\n",
    "      \"content\": \"The image is a book cover. Output should be in this format - <Name of the Book>: <Name of the Author>. Do not output anything else\",\n",
    "      \"images\": [base64_image]\n",
    "    }],\n",
    ")\n",
    "# Extract cleaned text\n",
    "cleaned_text = response['message']['content'].strip()\n",
    "print(cleaned_text)\n"
   ]
  },
  {
   "cell_type": "code",
   "execution_count": 3,
   "id": "6d89d163-b9cb-4e4c-91e6-61cb6d8d07b7",
   "metadata": {},
   "outputs": [
    {
     "name": "stdout",
     "output_type": "stream",
     "text": [
      "Norwegian Wood: Haruki Murakami.\n"
     ]
    }
   ],
   "source": [
    "# Example 2: Generating the Author's Full Name\n",
    "\n",
    "image_path = 'examples/image_2.png'  # Replace with your image path\n",
    "base64_image = image_to_base64(image_path)\n",
    "\n",
    "response = ollama.chat(\n",
    "    model=\"x/llama3.2-vision:latest\",\n",
    "    messages=[{\n",
    "      \"role\": \"user\",\n",
    "      \"content\": \"The image is a book cover. Output should be in this format - <Name of the Book>: <Full Name of the Author>. Do not output anything else\",\n",
    "      \"images\": [base64_image]\n",
    "    }],\n",
    ")\n",
    "# Extract cleaned text\n",
    "cleaned_text = response['message']['content'].strip()\n",
    "print(cleaned_text)\n"
   ]
  },
  {
   "cell_type": "code",
   "execution_count": 4,
   "id": "34cf4217-12d7-4d0d-949d-9b6e5fcf6c9a",
   "metadata": {},
   "outputs": [],
   "source": []
  },
  {
   "cell_type": "code",
   "execution_count": 5,
   "id": "ae0708a8-ab33-4270-89e3-f0744903aaa2",
   "metadata": {},
   "outputs": [
    {
     "name": "stdout",
     "output_type": "stream",
     "text": [
      "Norwegian Wood: Haruki Murakami\n",
      "Kafka on the Shore: Haruki Murakami\n",
      "Men Without Women: Haruki Murakami\n",
      "Sputnik Sweetheart: Haruki Murakami\n",
      "South of the Border, West of the Sun: Haruki Murakami\n",
      "A Wild Sheep Chase: Haruki Murakami\n",
      "Birthday Stories: Haruki Murakami\n",
      "Underground: Haruki Murakami\n",
      "After Dark: Haruki Murakami\n",
      "After the Quake: Haruki Murakami\n",
      "The Elephant Vanishes: Haruki Murakami\n"
     ]
    }
   ],
   "source": [
    "# Example 3: Multiple Books\n",
    "\n",
    "image_path = 'examples/murakami_multiple.png'  # Replace with your image path\n",
    "base64_image = image_to_base64(image_path)\n",
    "\n",
    "response = ollama.chat(\n",
    "    model=\"x/llama3.2-vision:latest\",\n",
    "    messages=[{\n",
    "      \"role\": \"user\",\n",
    "      \"content\": \"The image contains multiple book covers. Output all the book covers in this format - <Name of the Book>: <Full Name of the Author>. Do not output anything else\",\n",
    "      \"images\": [base64_image]\n",
    "    }],\n",
    ")\n",
    "# Extract cleaned text\n",
    "cleaned_text = response['message']['content'].strip()\n",
    "print(cleaned_text)\n"
   ]
  },
  {
   "cell_type": "code",
   "execution_count": 8,
   "id": "3ba63259-51a0-4aa2-b75f-10388fb4467c",
   "metadata": {},
   "outputs": [
    {
     "name": "stdout",
     "output_type": "stream",
     "text": [
      "* Norwegian Wood: Haruki Murakami\n",
      "* Sputnik Sweetheart: Haruki Murakami\n",
      "* After Dark: Haruki Murakami\n",
      "* Dance, Dance, Dance: Haruki Murakami\n",
      "* Kafka on the Shore: Haruki Murakami\n",
      "* Hear the Wind Sing: Haruki Murakami\n",
      "* A Wild Sheep Chase: Haruki Murakami\n",
      "* Blind Willow, Sleeping Woman: Haruki Murakami\n",
      "* After the Quake: Haruki Murakami\n",
      "* The Wind-Up Bird Chronicle: Haruki Murakami\n"
     ]
    }
   ],
   "source": [
    "# Example 4: Stack of Books\n",
    "\n",
    "image_path = 'examples/murakami_stack.jpg'  # Replace with your image path\n",
    "base64_image = image_to_base64(image_path)\n",
    "\n",
    "response = ollama.chat(\n",
    "    model=\"x/llama3.2-vision:latest\",\n",
    "    messages=[{\n",
    "      \"role\": \"user\",\n",
    "      \"content\": \"The image contains a stack of books. Output all the book names in this format - <Name of the Book>: <Full Name of the Author>. Do not output anything else\",\n",
    "      \"images\": [base64_image]\n",
    "    }],\n",
    ")\n",
    "# Extract cleaned text\n",
    "cleaned_text = response['message']['content'].strip()\n",
    "print(cleaned_text)\n"
   ]
  },
  {
   "cell_type": "code",
   "execution_count": null,
   "id": "d4aebd6f-8ec7-4f93-b762-a14a838a671a",
   "metadata": {},
   "outputs": [],
   "source": []
  }
 ],
 "metadata": {
  "kernelspec": {
   "display_name": "Python 3 (ipykernel)",
   "language": "python",
   "name": "python3"
  },
  "language_info": {
   "codemirror_mode": {
    "name": "ipython",
    "version": 3
   },
   "file_extension": ".py",
   "mimetype": "text/x-python",
   "name": "python",
   "nbconvert_exporter": "python",
   "pygments_lexer": "ipython3",
   "version": "3.12.4"
  }
 },
 "nbformat": 4,
 "nbformat_minor": 5
}
