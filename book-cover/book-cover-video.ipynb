{
 "cells": [
  {
   "cell_type": "code",
   "execution_count": 1,
   "id": "9e289a39-3611-486c-888e-a9f5931b48ac",
   "metadata": {},
   "outputs": [],
   "source": [
    "import cv2\n",
    "from ultralytics import YOLO\n",
    "import easyocr\n",
    "import numpy as np"
   ]
  },
  {
   "cell_type": "code",
   "execution_count": 2,
   "id": "488e9be9-7bea-4d39-95ba-0b21cf5533c4",
   "metadata": {},
   "outputs": [],
   "source": [
    "# Initialize YOLO model and EasyOCR reader\n",
    "model = YOLO('model.pt')\n",
    "reader = easyocr.Reader(['en'])"
   ]
  },
  {
   "cell_type": "code",
   "execution_count": 3,
   "id": "94923f83-47fc-491d-ae23-5578802c58a7",
   "metadata": {},
   "outputs": [],
   "source": [
    "# Function to perform object detection and draw bounding boxes\n",
    "def predict_and_detect(chosen_model, img, classes=[], conf=0.5, rectangle_thickness=2, text_thickness=1):\n",
    "    results = chosen_model.predict(img, conf=conf)\n",
    "    for result in results:\n",
    "        for box in result.boxes:\n",
    "            # Draw bounding box\n",
    "            x1, y1, x2, y2 = map(int, box.xyxy[0].tolist())\n",
    "            cv2.rectangle(img, (x1, y1), (x2, y2), (255, 0, 0), rectangle_thickness)\n",
    "            cv2.putText(img, f\"{result.names[int(box.cls[0])]}\",\n",
    "                        (x1, y1 - 10), cv2.FONT_HERSHEY_PLAIN, 1, (255, 0, 0), text_thickness)\n",
    "    return img, results"
   ]
  },
  {
   "cell_type": "code",
   "execution_count": 4,
   "id": "d36d0c5e-ab36-42b9-a6ca-045e328c525f",
   "metadata": {},
   "outputs": [],
   "source": [
    "# Function to crop frames based on bounding boxes and perform OCR\n",
    "def run_ocr_on_boxes(frame, boxes):\n",
    "    ocr_results = []\n",
    "    for box in boxes:\n",
    "        x1, y1, x2, y2 = map(int, box.xyxy[0].tolist())  # Convert to int for easy indexing\n",
    "        cropped_frame = frame[y1:y2, x1:x2]  # Crop the frame within the bounding box\n",
    "        ocr_result = reader.readtext(cropped_frame)  # Run OCR on cropped frame\n",
    "        ocr_results.append({\n",
    "            'box': (x1, y1, x2, y2),\n",
    "            'ocr_result': ocr_result\n",
    "        })\n",
    "    return ocr_results"
   ]
  },
  {
   "cell_type": "code",
   "execution_count": 5,
   "id": "dcdfafe1-8e89-4ed3-a0ff-52ccd785c4ac",
   "metadata": {},
   "outputs": [],
   "source": [
    "# Open video file or capture device\n",
    "video_path = 'IMG_9715.mov'  # Replace with your video file path or 0 for webcam\n",
    "cap = cv2.VideoCapture(video_path)"
   ]
  },
  {
   "cell_type": "code",
   "execution_count": 6,
   "id": "a8efa1b0-9877-475a-ab37-217cfd4b0256",
   "metadata": {},
   "outputs": [
    {
     "name": "stdout",
     "output_type": "stream",
     "text": [
      "\n",
      "0: 640x384 3 titles-or-authorss, 55.6ms\n",
      "Speed: 1.9ms preprocess, 55.6ms inference, 0.1ms postprocess per image at shape (1, 3, 640, 384)\n",
      "Extracted Text: THE, SECRET, HISTORY, DONNA, TARTT, DONNA, TARTT\n",
      "\n",
      "0: 640x384 3 titles-or-authorss, 69.9ms\n",
      "Speed: 1.6ms preprocess, 69.9ms inference, 0.1ms postprocess per image at shape (1, 3, 640, 384)\n",
      "Extracted Text: THE, SECRET, HISTORY, DONNA, TARTT, DONNA, TARTT\n",
      "\n",
      "0: 640x384 2 titles-or-authorss, 61.3ms\n",
      "Speed: 1.8ms preprocess, 61.3ms inference, 0.1ms postprocess per image at shape (1, 3, 640, 384)\n",
      "Extracted Text: THE, SECRET, HISTORY, DONNA, TARTT\n",
      "\n",
      "0: 640x384 2 titles-or-authorss, 59.5ms\n",
      "Speed: 1.6ms preprocess, 59.5ms inference, 0.1ms postprocess per image at shape (1, 3, 640, 384)\n",
      "Extracted Text: THE, SECRET, HISTORY, DONNA, TARTT\n",
      "\n",
      "0: 640x384 2 titles-or-authorss, 56.0ms\n",
      "Speed: 1.6ms preprocess, 56.0ms inference, 0.1ms postprocess per image at shape (1, 3, 640, 384)\n",
      "Extracted Text: THE, SECRET, HISTORY, DONNA, TARTT\n",
      "\n",
      "0: 640x384 2 titles-or-authorss, 68.0ms\n",
      "Speed: 1.9ms preprocess, 68.0ms inference, 0.1ms postprocess per image at shape (1, 3, 640, 384)\n",
      "Extracted Text: THE, SECRET, HISTORY, DONNA, TARTT\n",
      "\n",
      "0: 640x384 2 titles-or-authorss, 60.9ms\n",
      "Speed: 1.5ms preprocess, 60.9ms inference, 0.1ms postprocess per image at shape (1, 3, 640, 384)\n",
      "Extracted Text: THE, SECRET, HISTORY, DONNA, TARTT\n",
      "\n",
      "0: 640x384 2 titles-or-authorss, 58.6ms\n",
      "Speed: 1.7ms preprocess, 58.6ms inference, 0.1ms postprocess per image at shape (1, 3, 640, 384)\n",
      "Extracted Text: DONNA, TARTT, THE, SECRET, HISTORY\n",
      "\n",
      "0: 640x384 2 titles-or-authorss, 59.8ms\n",
      "Speed: 2.0ms preprocess, 59.8ms inference, 0.1ms postprocess per image at shape (1, 3, 640, 384)\n",
      "Extracted Text: DONNA, TARTT, THE, SECRET, HISTORY\n",
      "\n",
      "0: 640x384 2 titles-or-authorss, 52.7ms\n",
      "Speed: 1.6ms preprocess, 52.7ms inference, 0.1ms postprocess per image at shape (1, 3, 640, 384)\n",
      "Extracted Text: THE, SECRET, HISTORY, DONNA, TARTT\n",
      "\n",
      "0: 640x384 2 titles-or-authorss, 69.7ms\n",
      "Speed: 1.8ms preprocess, 69.7ms inference, 0.1ms postprocess per image at shape (1, 3, 640, 384)\n",
      "Extracted Text: THE, SECRET, HISTORY, DONNA, TARTT\n",
      "\n",
      "0: 640x384 2 titles-or-authorss, 59.9ms\n",
      "Speed: 1.6ms preprocess, 59.9ms inference, 0.1ms postprocess per image at shape (1, 3, 640, 384)\n",
      "Extracted Text: THE, SECRET, HISTORY, DONNA, TARTT\n",
      "\n",
      "0: 640x384 2 titles-or-authorss, 56.9ms\n",
      "Speed: 2.4ms preprocess, 56.9ms inference, 0.1ms postprocess per image at shape (1, 3, 640, 384)\n",
      "Extracted Text: DONNA, TARTT, THE, SECRET, HISTORY\n",
      "\n",
      "0: 640x384 2 titles-or-authorss, 67.3ms\n",
      "Speed: 1.7ms preprocess, 67.3ms inference, 0.1ms postprocess per image at shape (1, 3, 640, 384)\n",
      "Extracted Text: DONNA, TARTT, THE, SECRET, HISTORY\n",
      "\n",
      "0: 640x384 2 titles-or-authorss, 67.4ms\n",
      "Speed: 1.5ms preprocess, 67.4ms inference, 0.1ms postprocess per image at shape (1, 3, 640, 384)\n",
      "Extracted Text: THE, SECRET, HISTORY, DONNA, TARTT\n"
     ]
    }
   ],
   "source": [
    "output_text = \"\"\n",
    "while cap.isOpened():\n",
    "    ret, frame = cap.read()\n",
    "    if not ret:\n",
    "        break  # Exit if no more frames are available\n",
    "    \n",
    "    # Predict and detect objects\n",
    "    processed_frame, results = predict_and_detect(model, frame, conf=0.25)\n",
    "    \n",
    "    # Run OCR on the detected bounding boxes\n",
    "    for result in results:\n",
    "        boxes = result.boxes\n",
    "        ocr_results = run_ocr_on_boxes(frame, boxes)\n",
    "        \n",
    "        # Extract and print OCR text\n",
    "        extracted_text = []\n",
    "        for ocr_result in ocr_results:\n",
    "            for detection in ocr_result['ocr_result']:\n",
    "                extracted_text.append(detection[1])\n",
    "        \n",
    "        # Display extracted text\n",
    "        output_text = \", \".join(extracted_text)\n",
    "        print(f\"Extracted Text: {output_text}\")\n",
    "    \n",
    "    # Display the processed frame with bounding boxes and OCR text\n",
    "    cv2.imshow('YOLO + OCR Detection', processed_frame)\n",
    "    \n",
    "    if cv2.waitKey(1) & 0xFF == ord('q'):\n",
    "        break  # Press 'q' to exit\n",
    "\n",
    "# Release the video capture object and close windows\n",
    "cap.release()\n",
    "cv2.destroyAllWindows()"
   ]
  },
  {
   "cell_type": "code",
   "execution_count": 7,
   "id": "f665a70f-5539-4c94-8b82-c6921d9bb019",
   "metadata": {},
   "outputs": [
    {
     "data": {
      "text/plain": [
       "'THE, SECRET, HISTORY, DONNA, TARTT'"
      ]
     },
     "execution_count": 7,
     "metadata": {},
     "output_type": "execute_result"
    }
   ],
   "source": [
    "output_text"
   ]
  },
  {
   "cell_type": "code",
   "execution_count": 8,
   "id": "9f911cfc-1581-4f8f-b652-19c2d7123965",
   "metadata": {},
   "outputs": [
    {
     "name": "stdout",
     "output_type": "stream",
     "text": [
      "The Secret History : Donna Tartt\n"
     ]
    }
   ],
   "source": [
    "import ollama\n",
    "prompt = f\"\"\"\n",
    "        - Below is a text extracted from an OCR. The text contains mentions of famous books and their corresponding authors.\n",
    "        - Some words may be slightly misspelled or out of order.\n",
    "        - Your task is to identify the book titles and corresponding authors from the text.\n",
    "        - Output the text in the format: '<Name of the book> : <Name of the author>'.\n",
    "        - Do not generate any other text except the book title and the author.\n",
    "        \n",
    "        TEXT:\n",
    "        {output_text}\n",
    "\"\"\"\n",
    "# Call the LLaMA 3 model\n",
    "response = ollama.chat(\n",
    "    model=\"llama3\",\n",
    "    messages=[{\"role\": \"user\", \"content\": prompt}]\n",
    ")\n",
    "# Extract the response content\n",
    "response_text = response['message']['content'].strip()\n",
    "print(response_text)\n"
   ]
  },
  {
   "cell_type": "code",
   "execution_count": null,
   "id": "3f6bedd5-f121-4d65-8b81-5bda33f88176",
   "metadata": {},
   "outputs": [],
   "source": []
  }
 ],
 "metadata": {
  "kernelspec": {
   "display_name": "Python 3 (ipykernel)",
   "language": "python",
   "name": "python3"
  },
  "language_info": {
   "codemirror_mode": {
    "name": "ipython",
    "version": 3
   },
   "file_extension": ".py",
   "mimetype": "text/x-python",
   "name": "python",
   "nbconvert_exporter": "python",
   "pygments_lexer": "ipython3",
   "version": "3.12.4"
  }
 },
 "nbformat": 4,
 "nbformat_minor": 5
}
