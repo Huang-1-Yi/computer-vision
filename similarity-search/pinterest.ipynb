{
 "cells": [
  {
   "cell_type": "code",
   "execution_count": 1,
   "id": "1e250137-f370-4187-b0c8-c8d625f44321",
   "metadata": {},
   "outputs": [],
   "source": [
    "import requests\n",
    "from bs4 import BeautifulSoup\n",
    "import pandas as pd\n",
    "from sklearn.metrics.pairwise import cosine_similarity\n",
    "from sklearn.preprocessing import normalize\n",
    "from PIL import Image\n",
    "import numpy as np\n",
    "import io\n",
    "from torchvision import models, transforms\n",
    "import torch\n",
    "import logging"
   ]
  },
  {
   "cell_type": "code",
   "execution_count": 39,
   "id": "2db498be-8703-4590-81ed-84266ff31696",
   "metadata": {},
   "outputs": [],
   "source": [
    "def extract_features(image_url):\n",
    "    try:\n",
    "        # Load the pre-trained model\n",
    "        model = models.vgg16(pretrained=True)  # Example: VGG16\n",
    "        model.eval()  # Set the model to evaluation mode\n",
    "\n",
    "        # Define the transformation to preprocess the image\n",
    "        preprocess = transforms.Compose([\n",
    "            transforms.Resize(256),\n",
    "            transforms.CenterCrop(224),\n",
    "            transforms.ToTensor(),\n",
    "            transforms.Normalize(mean=[0.485, 0.456, 0.406], std=[0.229, 0.224, 0.225]),\n",
    "        ])\n",
    "\n",
    "        # Load the image from the URL with a User-Agent header\n",
    "        headers = {\n",
    "            'User-Agent': 'Mozilla/5.0 (Windows NT 10.0; Win64; x64) AppleWebKit/537.36 (KHTML, like Gecko) Chrome/91.0.4472.124 Safari/537.36'\n",
    "        }\n",
    "        response = requests.get(image_url, headers=headers)\n",
    "        response.raise_for_status()  # Raise an error for bad responses\n",
    "\n",
    "        img = Image.open(io.BytesIO(response.content)).convert('RGB')\n",
    "        img_t = preprocess(img)\n",
    "        batch_t = torch.unsqueeze(img_t, 0)\n",
    "\n",
    "        # Get the feature vector\n",
    "        with torch.no_grad():\n",
    "            features = model(batch_t)\n",
    "\n",
    "        logging.info(f\"Successfully extracted features for {image_url}\")\n",
    "        return features.numpy()\n",
    "    \n",
    "    except Exception as e:\n",
    "        logging.error(f\"Error extracting features from {image_url}: {e}\")\n",
    "        return None  # Return None if extraction fails"
   ]
  },
  {
   "cell_type": "code",
   "execution_count": 40,
   "id": "5d29ec58-0045-4b33-a4af-fc7393b1c80e",
   "metadata": {},
   "outputs": [
    {
     "name": "stderr",
     "output_type": "stream",
     "text": [
      "/opt/anaconda3/lib/python3.12/site-packages/torchvision/models/_utils.py:208: UserWarning: The parameter 'pretrained' is deprecated since 0.13 and may be removed in the future, please use 'weights' instead.\n",
      "  warnings.warn(\n",
      "/opt/anaconda3/lib/python3.12/site-packages/torchvision/models/_utils.py:223: UserWarning: Arguments other than a weight enum or `None` for 'weights' are deprecated since 0.13 and may be removed in the future. The current behavior is equivalent to passing `weights=VGG16_Weights.IMAGENET1K_V1`. You can also use `weights=VGG16_Weights.DEFAULT` to get the most up-to-date weights.\n",
      "  warnings.warn(msg)\n"
     ]
    }
   ],
   "source": [
    "f_1 = extract_features('https://i.pinimg.com/564x/e2/7d/ac/e27dacb3d16cae459e0e13f51c3cd99f.jpg')"
   ]
  },
  {
   "cell_type": "code",
   "execution_count": 42,
   "id": "8fd47747-d6e4-4b81-9503-cac458f07d48",
   "metadata": {},
   "outputs": [],
   "source": [
    "f_2 = extract_features('https://i.pinimg.com/736x/04/51/4b/04514b6528074b8f3f53e7f8bfb88967.jpg')"
   ]
  },
  {
   "cell_type": "code",
   "execution_count": 43,
   "id": "15e0ec01-425a-4177-982d-166f7aa73348",
   "metadata": {},
   "outputs": [],
   "source": [
    "f_3 = extract_features('https://i.pinimg.com/enabled/564x/b4/95/ee/b495ee1c44ec456d9988abeadda2fd36.jpg')"
   ]
  },
  {
   "cell_type": "code",
   "execution_count": 44,
   "id": "a303c098-cb7e-4f4d-becb-be274d93c2ec",
   "metadata": {},
   "outputs": [],
   "source": [
    "f_4 = extract_features('https://i.pinimg.com/enabled/564x/6d/27/e3/6d27e380c4378578ad8b0150ad4572cb.jpg')"
   ]
  },
  {
   "cell_type": "code",
   "execution_count": 45,
   "id": "91dd9aa4-544b-48fb-8bef-ade517b12e7b",
   "metadata": {},
   "outputs": [],
   "source": [
    "f_5 = extract_features('https://i.pinimg.com/enabled/564x/7e/3d/9a/7e3d9aa54c0193335cee21abe42af3a7.jpg')"
   ]
  },
  {
   "cell_type": "code",
   "execution_count": 46,
   "id": "c08836a7-96e5-4ecd-8968-4e773645ea19",
   "metadata": {},
   "outputs": [],
   "source": [
    "f_6 = extract_features('https://i.pinimg.com/564x/b2/8b/87/b28b87111fe07cb007926d3ee84914d9.jpg')"
   ]
  },
  {
   "cell_type": "code",
   "execution_count": 47,
   "id": "e8536c4a-9259-4440-a16a-005d9beda185",
   "metadata": {},
   "outputs": [],
   "source": [
    "f_7 = extract_features('https://i.pinimg.com/564x/5f/ec/d0/5fecd0453c81bd46c3a9b39e41292b9f.jpg')"
   ]
  },
  {
   "cell_type": "code",
   "execution_count": 53,
   "id": "9912085f-c1c0-4e2b-9d28-11fcc4aa0128",
   "metadata": {},
   "outputs": [
    {
     "name": "stderr",
     "output_type": "stream",
     "text": [
      "/opt/anaconda3/lib/python3.12/site-packages/torchvision/models/_utils.py:208: UserWarning: The parameter 'pretrained' is deprecated since 0.13 and may be removed in the future, please use 'weights' instead.\n",
      "  warnings.warn(\n",
      "/opt/anaconda3/lib/python3.12/site-packages/torchvision/models/_utils.py:223: UserWarning: Arguments other than a weight enum or `None` for 'weights' are deprecated since 0.13 and may be removed in the future. The current behavior is equivalent to passing `weights=VGG16_Weights.IMAGENET1K_V1`. You can also use `weights=VGG16_Weights.DEFAULT` to get the most up-to-date weights.\n",
      "  warnings.warn(msg)\n"
     ]
    }
   ],
   "source": [
    "f_8 = extract_features('https://i.pinimg.com/564x/80/67/8e/80678edf3ede3c94b98d7ea81ed41981.jpg')"
   ]
  },
  {
   "cell_type": "code",
   "execution_count": 54,
   "id": "7316e309-7dca-403e-b54e-a1040eff354a",
   "metadata": {},
   "outputs": [],
   "source": [
    "f_9 = extract_features('https://i.pinimg.com/enabled/564x/e0/09/f6/e009f69030b0e9727d800bc05f9e2de5.jpg')"
   ]
  },
  {
   "cell_type": "code",
   "execution_count": 48,
   "id": "66df2823-43e0-4ce1-8793-643b9b4bc222",
   "metadata": {},
   "outputs": [
    {
     "data": {
      "text/plain": [
       "array([[0.8704705]], dtype=float32)"
      ]
     },
     "execution_count": 48,
     "metadata": {},
     "output_type": "execute_result"
    }
   ],
   "source": [
    "from sklearn.metrics.pairwise import cosine_similarity\n",
    "cosine_similarity(f_1,f_2)"
   ]
  },
  {
   "cell_type": "code",
   "execution_count": 49,
   "id": "990842a6-8df7-47d7-8f38-ad0d2d3bc709",
   "metadata": {},
   "outputs": [
    {
     "data": {
      "text/plain": [
       "array([[0.812181]], dtype=float32)"
      ]
     },
     "execution_count": 49,
     "metadata": {},
     "output_type": "execute_result"
    }
   ],
   "source": [
    "cosine_similarity(f_1,f_3)"
   ]
  },
  {
   "cell_type": "code",
   "execution_count": 50,
   "id": "ac8f1c39-e716-462a-b7b3-8dbbb35451cd",
   "metadata": {},
   "outputs": [
    {
     "data": {
      "text/plain": [
       "array([[0.52790296]], dtype=float32)"
      ]
     },
     "execution_count": 50,
     "metadata": {},
     "output_type": "execute_result"
    }
   ],
   "source": [
    "cosine_similarity(f_1,f_4)"
   ]
  },
  {
   "cell_type": "code",
   "execution_count": 51,
   "id": "19ad5f78-16ca-42be-bd2c-134fd22e671e",
   "metadata": {},
   "outputs": [
    {
     "data": {
      "text/plain": [
       "array([[0.81082374]], dtype=float32)"
      ]
     },
     "execution_count": 51,
     "metadata": {},
     "output_type": "execute_result"
    }
   ],
   "source": [
    "cosine_similarity(f_1,f_5)"
   ]
  },
  {
   "cell_type": "code",
   "execution_count": 52,
   "id": "ee373770-9908-45f0-bad2-9663adc10683",
   "metadata": {},
   "outputs": [
    {
     "data": {
      "text/plain": [
       "array([[0.6615258]], dtype=float32)"
      ]
     },
     "execution_count": 52,
     "metadata": {},
     "output_type": "execute_result"
    }
   ],
   "source": [
    "from sklearn.metrics.pairwise import cosine_similarity\n",
    "cosine_similarity(f_6,f_7)"
   ]
  },
  {
   "cell_type": "code",
   "execution_count": 55,
   "id": "176b81be-d22f-4606-bbeb-3a4d3e6e50ad",
   "metadata": {},
   "outputs": [
    {
     "data": {
      "text/plain": [
       "array([[0.86329114]], dtype=float32)"
      ]
     },
     "execution_count": 55,
     "metadata": {},
     "output_type": "execute_result"
    }
   ],
   "source": [
    "from sklearn.metrics.pairwise import cosine_similarity\n",
    "cosine_similarity(f_8,f_9)"
   ]
  },
  {
   "cell_type": "code",
   "execution_count": null,
   "id": "8e40e860-dd2d-4f6e-84e8-61cfc73ab57b",
   "metadata": {},
   "outputs": [],
   "source": []
  }
 ],
 "metadata": {
  "kernelspec": {
   "display_name": "Python 3 (ipykernel)",
   "language": "python",
   "name": "python3"
  },
  "language_info": {
   "codemirror_mode": {
    "name": "ipython",
    "version": 3
   },
   "file_extension": ".py",
   "mimetype": "text/x-python",
   "name": "python",
   "nbconvert_exporter": "python",
   "pygments_lexer": "ipython3",
   "version": "3.12.4"
  }
 },
 "nbformat": 4,
 "nbformat_minor": 5
}
